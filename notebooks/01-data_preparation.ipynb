{
 "cells": [
  {
   "cell_type": "markdown",
   "id": "43debe34",
   "metadata": {},
   "source": [
    "## Data Preparation"
   ]
  },
  {
   "cell_type": "code",
   "execution_count": 169,
   "id": "ce9e87dc",
   "metadata": {},
   "outputs": [
    {
     "name": "stdout",
     "output_type": "stream",
     "text": [
      "The autoreload extension is already loaded. To reload it, use:\n",
      "  %reload_ext autoreload\n"
     ]
    }
   ],
   "source": [
    "%load_ext autoreload\n",
    "%autoreload 2"
   ]
  },
  {
   "cell_type": "code",
   "execution_count": 170,
   "id": "a042497d",
   "metadata": {},
   "outputs": [],
   "source": [
    "import pandas as pd\n",
    "import src.utils.paths as path"
   ]
  },
  {
   "cell_type": "code",
   "execution_count": 171,
   "id": "559595df",
   "metadata": {},
   "outputs": [],
   "source": [
    "movies_data_path = path.data_raw_dir('movies.csv')\n",
    "finantial_data_path = path.data_raw_dir('finantials.csv')\n",
    "opening_data_path = path.data_raw_dir('opening_gross.csv')"
   ]
  },
  {
   "cell_type": "code",
   "execution_count": 172,
   "id": "31c3b9ad",
   "metadata": {},
   "outputs": [],
   "source": [
    "fin_data = pd.read_csv(finantial_data_path)\n",
    "movie_data = pd.read_csv(movies_data_path)\n",
    "opening_data = pd.read_csv(opening_data_path)"
   ]
  },
  {
   "cell_type": "code",
   "execution_count": 173,
   "metadata": {},
   "outputs": [
    {
     "data": {
      "text/html": [
       "<div>\n",
       "<style scoped>\n",
       "    .dataframe tbody tr th:only-of-type {\n",
       "        vertical-align: middle;\n",
       "    }\n",
       "\n",
       "    .dataframe tbody tr th {\n",
       "        vertical-align: top;\n",
       "    }\n",
       "\n",
       "    .dataframe thead th {\n",
       "        text-align: right;\n",
       "    }\n",
       "</style>\n",
       "<table border=\"1\" class=\"dataframe\">\n",
       "  <thead>\n",
       "    <tr style=\"text-align: right;\">\n",
       "      <th></th>\n",
       "      <th>movie_name</th>\n",
       "      <th>domestic_gross</th>\n",
       "      <th>movie_link</th>\n",
       "      <th>production_budget</th>\n",
       "      <th>release_date</th>\n",
       "      <th>worldwide_gross</th>\n",
       "      <th>movie_title</th>\n",
       "    </tr>\n",
       "  </thead>\n",
       "  <tbody>\n",
       "    <tr>\n",
       "      <th>0</th>\n",
       "      <td>Avatar</td>\n",
       "      <td>760507625</td>\n",
       "      <td>http://www.the-numbers.com/movie/Avatar#tab=su...</td>\n",
       "      <td>425000000</td>\n",
       "      <td>12/18/2009</td>\n",
       "      <td>2783918982</td>\n",
       "      <td>Avatar</td>\n",
       "    </tr>\n",
       "    <tr>\n",
       "      <th>1</th>\n",
       "      <td>Star Wars Ep. VII: The Force Awakens</td>\n",
       "      <td>936662225</td>\n",
       "      <td>http://www.the-numbers.com/movie/Star-Wars-Ep-...</td>\n",
       "      <td>306000000</td>\n",
       "      <td>12/18/2015</td>\n",
       "      <td>2058662225</td>\n",
       "      <td>Star Wars: Episode VII - The Force Awakens    ...</td>\n",
       "    </tr>\n",
       "    <tr>\n",
       "      <th>2</th>\n",
       "      <td>Pirates of the Caribbean: At World's End</td>\n",
       "      <td>309420425</td>\n",
       "      <td>http://www.the-numbers.com/movie/Pirates-of-th...</td>\n",
       "      <td>300000000</td>\n",
       "      <td>5/24/2007</td>\n",
       "      <td>963420425</td>\n",
       "      <td>Pirates of the Caribbean: At World's End</td>\n",
       "    </tr>\n",
       "    <tr>\n",
       "      <th>3</th>\n",
       "      <td>Spectre</td>\n",
       "      <td>200074175</td>\n",
       "      <td>http://www.the-numbers.com/movie/Spectre#tab=s...</td>\n",
       "      <td>300000000</td>\n",
       "      <td>11/6/2015</td>\n",
       "      <td>879620923</td>\n",
       "      <td>Spectre</td>\n",
       "    </tr>\n",
       "    <tr>\n",
       "      <th>4</th>\n",
       "      <td>The Dark Knight Rises</td>\n",
       "      <td>448139099</td>\n",
       "      <td>http://www.the-numbers.com/movie/Dark-Knight-R...</td>\n",
       "      <td>275000000</td>\n",
       "      <td>7/20/2012</td>\n",
       "      <td>1084439099</td>\n",
       "      <td>The Dark Knight Rises</td>\n",
       "    </tr>\n",
       "  </tbody>\n",
       "</table>\n",
       "</div>"
      ],
      "text/plain": [
       "                                 movie_name  domestic_gross  \\\n",
       "0                                    Avatar       760507625   \n",
       "1      Star Wars Ep. VII: The Force Awakens       936662225   \n",
       "2  Pirates of the Caribbean: At World's End       309420425   \n",
       "3                                   Spectre       200074175   \n",
       "4                     The Dark Knight Rises       448139099   \n",
       "\n",
       "                                          movie_link  production_budget  \\\n",
       "0  http://www.the-numbers.com/movie/Avatar#tab=su...          425000000   \n",
       "1  http://www.the-numbers.com/movie/Star-Wars-Ep-...          306000000   \n",
       "2  http://www.the-numbers.com/movie/Pirates-of-th...          300000000   \n",
       "3  http://www.the-numbers.com/movie/Spectre#tab=s...          300000000   \n",
       "4  http://www.the-numbers.com/movie/Dark-Knight-R...          275000000   \n",
       "\n",
       "  release_date  worldwide_gross  \\\n",
       "0   12/18/2009       2783918982   \n",
       "1   12/18/2015       2058662225   \n",
       "2    5/24/2007        963420425   \n",
       "3    11/6/2015        879620923   \n",
       "4    7/20/2012       1084439099   \n",
       "\n",
       "                                         movie_title  \n",
       "0                                            Avatar   \n",
       "1  Star Wars: Episode VII - The Force Awakens    ...  \n",
       "2          Pirates of the Caribbean: At World's End   \n",
       "3                                           Spectre   \n",
       "4                             The Dark Knight Rises   "
      ]
     },
     "metadata": {},
     "output_type": "display_data"
    },
    {
     "data": {
      "text/plain": [
       "movie_name           object\n",
       "domestic_gross        int64\n",
       "movie_link           object\n",
       "production_budget     int64\n",
       "release_date         object\n",
       "worldwide_gross       int64\n",
       "movie_title          object\n",
       "dtype: object"
      ]
     },
     "metadata": {},
     "output_type": "display_data"
    },
    {
     "name": "stdout",
     "output_type": "stream",
     "text": [
      "Shape: (4341, 7)\n"
     ]
    }
   ],
   "source": [
    "# Financial data\n",
    "display(fin_data.head())\n",
    "display(fin_data.dtypes)\n",
    "print('Shape:', fin_data.shape)"
   ]
  },
  {
   "cell_type": "code",
   "execution_count": 174,
   "metadata": {},
   "outputs": [
    {
     "data": {
      "text/html": [
       "<div>\n",
       "<style scoped>\n",
       "    .dataframe tbody tr th:only-of-type {\n",
       "        vertical-align: middle;\n",
       "    }\n",
       "\n",
       "    .dataframe tbody tr th {\n",
       "        vertical-align: top;\n",
       "    }\n",
       "\n",
       "    .dataframe thead th {\n",
       "        text-align: right;\n",
       "    }\n",
       "</style>\n",
       "<table border=\"1\" class=\"dataframe\">\n",
       "  <thead>\n",
       "    <tr style=\"text-align: right;\">\n",
       "      <th></th>\n",
       "      <th>title_year</th>\n",
       "      <th>aspect_ratio</th>\n",
       "      <th>duration</th>\n",
       "      <th>cast_total_facebook_likes</th>\n",
       "      <th>budget</th>\n",
       "      <th>imdb_score</th>\n",
       "      <th>gross</th>\n",
       "      <th>movie_title</th>\n",
       "    </tr>\n",
       "  </thead>\n",
       "  <tbody>\n",
       "    <tr>\n",
       "      <th>0</th>\n",
       "      <td>2009.0</td>\n",
       "      <td>1.78</td>\n",
       "      <td>178.0</td>\n",
       "      <td>4834</td>\n",
       "      <td>237000000.0</td>\n",
       "      <td>7.9</td>\n",
       "      <td>760505847.0</td>\n",
       "      <td>Avatar</td>\n",
       "    </tr>\n",
       "    <tr>\n",
       "      <th>1</th>\n",
       "      <td>2007.0</td>\n",
       "      <td>2.35</td>\n",
       "      <td>169.0</td>\n",
       "      <td>48350</td>\n",
       "      <td>300000000.0</td>\n",
       "      <td>7.1</td>\n",
       "      <td>309404152.0</td>\n",
       "      <td>Pirates of the Caribbean: At World's End</td>\n",
       "    </tr>\n",
       "    <tr>\n",
       "      <th>2</th>\n",
       "      <td>2015.0</td>\n",
       "      <td>2.35</td>\n",
       "      <td>148.0</td>\n",
       "      <td>11700</td>\n",
       "      <td>245000000.0</td>\n",
       "      <td>6.8</td>\n",
       "      <td>200074175.0</td>\n",
       "      <td>Spectre</td>\n",
       "    </tr>\n",
       "    <tr>\n",
       "      <th>3</th>\n",
       "      <td>2012.0</td>\n",
       "      <td>2.35</td>\n",
       "      <td>164.0</td>\n",
       "      <td>106759</td>\n",
       "      <td>250000000.0</td>\n",
       "      <td>8.5</td>\n",
       "      <td>448130642.0</td>\n",
       "      <td>The Dark Knight Rises</td>\n",
       "    </tr>\n",
       "    <tr>\n",
       "      <th>4</th>\n",
       "      <td>NaN</td>\n",
       "      <td>NaN</td>\n",
       "      <td>NaN</td>\n",
       "      <td>143</td>\n",
       "      <td>NaN</td>\n",
       "      <td>7.1</td>\n",
       "      <td>NaN</td>\n",
       "      <td>Star Wars: Episode VII - The Force Awakens    ...</td>\n",
       "    </tr>\n",
       "  </tbody>\n",
       "</table>\n",
       "</div>"
      ],
      "text/plain": [
       "   title_year  aspect_ratio  duration  cast_total_facebook_likes       budget  \\\n",
       "0      2009.0          1.78     178.0                       4834  237000000.0   \n",
       "1      2007.0          2.35     169.0                      48350  300000000.0   \n",
       "2      2015.0          2.35     148.0                      11700  245000000.0   \n",
       "3      2012.0          2.35     164.0                     106759  250000000.0   \n",
       "4         NaN           NaN       NaN                        143          NaN   \n",
       "\n",
       "   imdb_score        gross                                        movie_title  \n",
       "0         7.9  760505847.0                                            Avatar   \n",
       "1         7.1  309404152.0          Pirates of the Caribbean: At World's End   \n",
       "2         6.8  200074175.0                                           Spectre   \n",
       "3         8.5  448130642.0                             The Dark Knight Rises   \n",
       "4         7.1          NaN  Star Wars: Episode VII - The Force Awakens    ...  "
      ]
     },
     "metadata": {},
     "output_type": "display_data"
    },
    {
     "data": {
      "text/plain": [
       "title_year                   float64\n",
       "aspect_ratio                 float64\n",
       "duration                     float64\n",
       "cast_total_facebook_likes      int64\n",
       "budget                       float64\n",
       "imdb_score                   float64\n",
       "gross                        float64\n",
       "movie_title                   object\n",
       "dtype: object"
      ]
     },
     "metadata": {},
     "output_type": "display_data"
    },
    {
     "name": "stdout",
     "output_type": "stream",
     "text": [
      "Shape: (5043, 8)\n"
     ]
    }
   ],
   "source": [
    "# Movie data\n",
    "# cast_total_facebook_likes is presenting casting problems\n",
    "# display(movie_data.dtypes == int)\n",
    "display(movie_data.head())\n",
    "display(movie_data.dtypes)\n",
    "print('Shape:', movie_data.shape)"
   ]
  },
  {
   "cell_type": "code",
   "execution_count": 175,
   "metadata": {},
   "outputs": [
    {
     "data": {
      "text/html": [
       "<div>\n",
       "<style scoped>\n",
       "    .dataframe tbody tr th:only-of-type {\n",
       "        vertical-align: middle;\n",
       "    }\n",
       "\n",
       "    .dataframe tbody tr th {\n",
       "        vertical-align: top;\n",
       "    }\n",
       "\n",
       "    .dataframe thead th {\n",
       "        text-align: right;\n",
       "    }\n",
       "</style>\n",
       "<table border=\"1\" class=\"dataframe\">\n",
       "  <thead>\n",
       "    <tr style=\"text-align: right;\">\n",
       "      <th></th>\n",
       "      <th>movie_title</th>\n",
       "      <th>opening_gross</th>\n",
       "      <th>screens</th>\n",
       "    </tr>\n",
       "  </thead>\n",
       "  <tbody>\n",
       "    <tr>\n",
       "      <th>0</th>\n",
       "      <td>10 Days in a Madhouse</td>\n",
       "      <td>2451.0</td>\n",
       "      <td>10.0</td>\n",
       "    </tr>\n",
       "    <tr>\n",
       "      <th>1</th>\n",
       "      <td>10 Things I Hate About You</td>\n",
       "      <td>8330681.0</td>\n",
       "      <td>2271.0</td>\n",
       "    </tr>\n",
       "    <tr>\n",
       "      <th>2</th>\n",
       "      <td>102 Dalmatians</td>\n",
       "      <td>19883351.0</td>\n",
       "      <td>2704.0</td>\n",
       "    </tr>\n",
       "    <tr>\n",
       "      <th>3</th>\n",
       "      <td>12 Rounds</td>\n",
       "      <td>5329240.0</td>\n",
       "      <td>2331.0</td>\n",
       "    </tr>\n",
       "    <tr>\n",
       "      <th>4</th>\n",
       "      <td>12 Years a Slave</td>\n",
       "      <td>923715.0</td>\n",
       "      <td>19.0</td>\n",
       "    </tr>\n",
       "  </tbody>\n",
       "</table>\n",
       "</div>"
      ],
      "text/plain": [
       "                   movie_title  opening_gross  screens\n",
       "0       10 Days in a Madhouse          2451.0     10.0\n",
       "1  10 Things I Hate About You       8330681.0   2271.0\n",
       "2              102 Dalmatians      19883351.0   2704.0\n",
       "3                   12 Rounds       5329240.0   2331.0\n",
       "4            12 Years a Slave        923715.0     19.0"
      ]
     },
     "metadata": {},
     "output_type": "display_data"
    },
    {
     "data": {
      "text/plain": [
       "movie_title       object\n",
       "opening_gross    float64\n",
       "screens          float64\n",
       "dtype: object"
      ]
     },
     "metadata": {},
     "output_type": "display_data"
    },
    {
     "name": "stdout",
     "output_type": "stream",
     "text": [
      "Shape: (2272, 3)\n"
     ]
    }
   ],
   "source": [
    "# Opening data\n",
    "display(opening_data.head())\n",
    "display(opening_data.dtypes)\n",
    "print('Shape:', opening_data.shape)"
   ]
  },
  {
   "cell_type": "code",
   "execution_count": 176,
   "id": "0811c8b6",
   "metadata": {},
   "outputs": [],
   "source": [
    "# numeric_columns_mask = (movie_data.dtypes == float) | (movie_data.dtypes == int)\n",
    "# numeric_columns = [column for column in numeric_columns_mask.index if numeric_columns_mask[column]]\n",
    "# movie_data = movie_data[numeric_columns+['movie_title']]"
   ]
  },
  {
   "cell_type": "code",
   "execution_count": 177,
   "id": "697ea2e2",
   "metadata": {},
   "outputs": [],
   "source": [
    "fin_data = fin_data[['movie_title', 'production_budget', 'worldwide_gross']]"
   ]
  },
  {
   "cell_type": "code",
   "execution_count": 178,
   "id": "ec9d0adc",
   "metadata": {},
   "outputs": [],
   "source": [
    "fin_movie_data = pd.merge(fin_data, movie_data, on= 'movie_title', how='left')"
   ]
  },
  {
   "cell_type": "code",
   "execution_count": 179,
   "id": "6ca13e79",
   "metadata": {},
   "outputs": [],
   "source": [
    "full_movie_data = pd.merge(opening_data, fin_movie_data, on = 'movie_title', how='left')"
   ]
  },
  {
   "cell_type": "code",
   "execution_count": 180,
   "id": "c372e153",
   "metadata": {},
   "outputs": [
    {
     "data": {
      "text/plain": [
       "(2304, 12)"
      ]
     },
     "execution_count": 180,
     "metadata": {},
     "output_type": "execute_result"
    }
   ],
   "source": [
    "full_movie_data[(full_movie_data.worldwide_gross != 0) & (full_movie_data.worldwide_gross.notnull())].shape"
   ]
  },
  {
   "cell_type": "code",
   "execution_count": 181,
   "id": "dbd03bcb",
   "metadata": {
    "scrolled": true
   },
   "outputs": [],
   "source": [
    "full_movie_data = full_movie_data.drop(['movie_title','gross'],axis=1)"
   ]
  },
  {
   "cell_type": "code",
   "execution_count": 182,
   "id": "68311214",
   "metadata": {},
   "outputs": [
    {
     "data": {
      "text/plain": [
       "Index(['opening_gross', 'screens', 'production_budget', 'worldwide_gross',\n",
       "       'title_year', 'aspect_ratio', 'duration', 'cast_total_facebook_likes',\n",
       "       'budget', 'imdb_score'],\n",
       "      dtype='object')"
      ]
     },
     "execution_count": 182,
     "metadata": {},
     "output_type": "execute_result"
    }
   ],
   "source": [
    "full_movie_data.columns"
   ]
  },
  {
   "cell_type": "code",
   "execution_count": 183,
   "metadata": {},
   "outputs": [
    {
     "data": {
      "text/plain": [
       "opening_gross                float64\n",
       "screens                      float64\n",
       "production_budget              int64\n",
       "worldwide_gross                int64\n",
       "title_year                   float64\n",
       "aspect_ratio                 float64\n",
       "duration                     float64\n",
       "cast_total_facebook_likes      int64\n",
       "budget                       float64\n",
       "imdb_score                   float64\n",
       "dtype: object"
      ]
     },
     "execution_count": 183,
     "metadata": {},
     "output_type": "execute_result"
    }
   ],
   "source": [
    "full_movie_data.dtypes"
   ]
  },
  {
   "cell_type": "code",
   "execution_count": 184,
   "metadata": {},
   "outputs": [
    {
     "name": "stderr",
     "output_type": "stream",
     "text": [
      "c:\\Users\\aleja\\Python\\ml_deployment\\.venv\\Lib\\site-packages\\pandas\\core\\internals\\blocks.py:2323: RuntimeWarning: invalid value encountered in cast\n",
      "  values = values.astype(str)\n"
     ]
    }
   ],
   "source": [
    "full_movie_data.to_csv(path.data_processed_dir('full_data.csv'), index=False)"
   ]
  }
 ],
 "metadata": {
  "kernelspec": {
   "display_name": ".venv",
   "language": "python",
   "name": "python3"
  },
  "language_info": {
   "codemirror_mode": {
    "name": "ipython",
    "version": 3
   },
   "file_extension": ".py",
   "mimetype": "text/x-python",
   "name": "python",
   "nbconvert_exporter": "python",
   "pygments_lexer": "ipython3",
   "version": "3.11.0"
  },
  "orig_nbformat": 4,
  "vscode": {
   "interpreter": {
    "hash": "fcdc2e9af11d079c9b74bd0040df59803315cdfb21f0b72630834900dd7a7e30"
   }
  }
 },
 "nbformat": 4,
 "nbformat_minor": 2
}
